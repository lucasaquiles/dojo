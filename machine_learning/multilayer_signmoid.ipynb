{
 "cells": [
  {
   "cell_type": "code",
   "execution_count": 23,
   "metadata": {},
   "outputs": [
    {
     "name": "stdout",
     "output_type": "stream",
     "text": [
      "[[0.40588573]\n",
      " [0.43187857]\n",
      " [0.43678536]\n",
      " [0.45801216]]\n"
     ]
    }
   ],
   "source": [
    "import numpy as np\n",
    "\n",
    "def sigmoid(soma):\n",
    "    return 1/(1 + np.exp(-soma))\n",
    "\n",
    "entradas = np.array([\n",
    "    [0,0], [0,1],[1,0],[1,1]\n",
    "])\n",
    "\n",
    "saidas = np.array([\n",
    "    [0],[1],[1],[0]\n",
    "])\n",
    "\n",
    "pesos0 = np.array([\n",
    "    [-0.424, -0.740,-0.961],\n",
    "    [0.358, -0.577,-0.469],\n",
    "])\n",
    "\n",
    "pesos1 = np.array([\n",
    "    [-0.017], [-0.893], [0.148]\n",
    "])\n",
    "\n",
    "epocas = 100\n",
    "\n",
    "#for j in range(epocas):\n",
    "camadaEntrada = entradas\n",
    "somaSinapse0 = np.dot(camadaEntrada, pesos0)\n",
    "camadaOculta = sigmoid(somaSinapse0)\n",
    "\n",
    "result = np.dot(camadaOculta, pesos1)\n",
    "camadaSaida = sigmoid(result)\n",
    "    \n",
    "print(camadaSaida)\n",
    "    "
   ]
  },
  {
   "cell_type": "code",
   "execution_count": null,
   "metadata": {},
   "outputs": [],
   "source": []
  },
  {
   "cell_type": "code",
   "execution_count": null,
   "metadata": {},
   "outputs": [],
   "source": []
  }
 ],
 "metadata": {
  "kernelspec": {
   "display_name": "Python 3",
   "language": "python",
   "name": "python3"
  },
  "language_info": {
   "codemirror_mode": {
    "name": "ipython",
    "version": 3
   },
   "file_extension": ".py",
   "mimetype": "text/x-python",
   "name": "python",
   "nbconvert_exporter": "python",
   "pygments_lexer": "ipython3",
   "version": "3.6.10"
  }
 },
 "nbformat": 4,
 "nbformat_minor": 4
}
